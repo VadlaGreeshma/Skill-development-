{
  "cells": [
    {
      "cell_type": "markdown",
      "metadata": {
        "id": "view-in-github",
        "colab_type": "text"
      },
      "source": [
        "<a href=\"https://colab.research.google.com/github/VadlaGreeshma/Skill-development-/blob/main/assignments/Assignment_01.ipynb\" target=\"_parent\"><img src=\"https://colab.research.google.com/assets/colab-badge.svg\" alt=\"Open In Colab\"/></a>"
      ]
    },
    {
      "cell_type": "markdown",
      "id": "548b84c2-e24f-4a12-98bb-5e7bd5ec86bd",
      "metadata": {
        "id": "548b84c2-e24f-4a12-98bb-5e7bd5ec86bd"
      },
      "source": [
        "# Python"
      ]
    },
    {
      "cell_type": "markdown",
      "id": "99fbfc45-ba9e-4766-8219-f5dbcacc8481",
      "metadata": {
        "id": "99fbfc45-ba9e-4766-8219-f5dbcacc8481"
      },
      "source": [
        "<a target=\"_blank\" href=\"https://colab.research.google.com/github/kgsb24/rishi-college/blob/main/assignments/Assignment_01.ipynb\">\n",
        "  <img src=\"https://colab.research.google.com/assets/colab-badge.svg\" alt=\"Open In Colab\"/>\n",
        "</a>"
      ]
    },
    {
      "cell_type": "markdown",
      "id": "07a1f870-f905-4703-8b65-12e83172133a",
      "metadata": {
        "id": "07a1f870-f905-4703-8b65-12e83172133a"
      },
      "source": [
        "## Basic Python Fundamentals"
      ]
    },
    {
      "cell_type": "code",
      "execution_count": null,
      "id": "502e1d87-2fdd-4588-a330-2af21268215e",
      "metadata": {
        "id": "502e1d87-2fdd-4588-a330-2af21268215e"
      },
      "outputs": [],
      "source": [
        "# Write a Python program to declare a variable x with the value 10 and print its type."
      ]
    },
    {
      "cell_type": "code",
      "source": [
        "x=10\n",
        "type(x)"
      ],
      "metadata": {
        "id": "NafbhszfUq3V",
        "outputId": "f0bed9c4-83f0-4997-afa3-3e6b53a47d8e",
        "colab": {
          "base_uri": "https://localhost:8080/"
        }
      },
      "id": "NafbhszfUq3V",
      "execution_count": null,
      "outputs": [
        {
          "output_type": "execute_result",
          "data": {
            "text/plain": [
              "int"
            ]
          },
          "metadata": {},
          "execution_count": 1
        }
      ]
    },
    {
      "cell_type": "code",
      "execution_count": null,
      "id": "dae77579-4b7d-4f06-96e0-7bdfe43860d7",
      "metadata": {
        "id": "dae77579-4b7d-4f06-96e0-7bdfe43860d7"
      },
      "outputs": [],
      "source": [
        "# Write a Python program to declare three variables a = 5, b = 10, and c = 15, and print their sum."
      ]
    },
    {
      "cell_type": "code",
      "source": [
        "a=5\n",
        "b=10\n",
        "c=15\n",
        "print(a+b+c)"
      ],
      "metadata": {
        "id": "_u0pkiVXi_3D",
        "outputId": "dfff4e6f-2c34-497c-83e2-8cf5b087ab7c",
        "colab": {
          "base_uri": "https://localhost:8080/"
        }
      },
      "id": "_u0pkiVXi_3D",
      "execution_count": null,
      "outputs": [
        {
          "output_type": "stream",
          "name": "stdout",
          "text": [
            "30\n"
          ]
        }
      ]
    },
    {
      "cell_type": "code",
      "execution_count": null,
      "id": "c32867b2-a615-426a-89ae-bd2793b6a4dc",
      "metadata": {
        "id": "c32867b2-a615-426a-89ae-bd2793b6a4dc"
      },
      "outputs": [],
      "source": [
        "# Write a Python program that checks and prints the type of a variable (e.g., int, float, str, etc.)."
      ]
    },
    {
      "cell_type": "code",
      "source": [
        "x=23\n",
        "y=3.5\n",
        "z=\"greeshma\"\n",
        "print (type(x))\n",
        "print(type(y))\n",
        "print(type(z))"
      ],
      "metadata": {
        "id": "UkWdRZDXkvwn",
        "outputId": "d5459178-ebf5-4dda-bfd9-d575a92131ad",
        "colab": {
          "base_uri": "https://localhost:8080/"
        }
      },
      "id": "UkWdRZDXkvwn",
      "execution_count": null,
      "outputs": [
        {
          "output_type": "stream",
          "name": "stdout",
          "text": [
            "<class 'int'>\n",
            "<class 'float'>\n",
            "<class 'str'>\n"
          ]
        }
      ]
    },
    {
      "cell_type": "code",
      "execution_count": null,
      "id": "8b233e41-9d44-4869-9ead-afb3ff1c0b67",
      "metadata": {
        "id": "8b233e41-9d44-4869-9ead-afb3ff1c0b67"
      },
      "outputs": [],
      "source": [
        "# Write a Python program to perform addition, subtraction, multiplication, and division on two numbers. (User input is required for the numbers)"
      ]
    },
    {
      "cell_type": "code",
      "source": [
        "a=20\n",
        "b=23\n",
        "print(a+b)\n",
        "print(a-b)\n",
        "print(a*b)\n",
        "print(a/b)"
      ],
      "metadata": {
        "id": "ih1DluG-l8lt",
        "outputId": "647ac35f-118a-4a65-cc5d-0f85a5222b8e",
        "colab": {
          "base_uri": "https://localhost:8080/"
        }
      },
      "id": "ih1DluG-l8lt",
      "execution_count": null,
      "outputs": [
        {
          "output_type": "stream",
          "name": "stdout",
          "text": [
            "43\n",
            "-3\n",
            "460\n",
            "0.8695652173913043\n"
          ]
        }
      ]
    },
    {
      "cell_type": "code",
      "execution_count": null,
      "id": "629435bd-6bfa-44de-91d9-3b2937713257",
      "metadata": {
        "id": "629435bd-6bfa-44de-91d9-3b2937713257"
      },
      "outputs": [],
      "source": [
        "# Write a Python program to convert a string \"123\" to an integer and a float and print the results."
      ]
    },
    {
      "cell_type": "code",
      "source": [
        "x=\"123\"\n",
        "print(int(x))\n",
        "print(float(x))"
      ],
      "metadata": {
        "id": "gvZvClLxm7kL",
        "outputId": "0b93c45e-d29d-4e52-b2a6-7cc0b5064650",
        "colab": {
          "base_uri": "https://localhost:8080/"
        }
      },
      "id": "gvZvClLxm7kL",
      "execution_count": null,
      "outputs": [
        {
          "output_type": "stream",
          "name": "stdout",
          "text": [
            "123\n",
            "123.0\n"
          ]
        }
      ]
    },
    {
      "cell_type": "code",
      "execution_count": null,
      "id": "599421f1-51c1-4653-9d78-b007fcc6861b",
      "metadata": {
        "id": "599421f1-51c1-4653-9d78-b007fcc6861b"
      },
      "outputs": [],
      "source": [
        "# Write a Python program to print the first character of a given string. (User input for the string)"
      ]
    },
    {
      "cell_type": "code",
      "source": [
        "str=\"greeshma\"\n",
        "print(str[0])"
      ],
      "metadata": {
        "id": "2L0m7e8ppc8x",
        "outputId": "795efe9e-e445-4b74-ad59-064b2b34720f",
        "colab": {
          "base_uri": "https://localhost:8080/"
        }
      },
      "id": "2L0m7e8ppc8x",
      "execution_count": null,
      "outputs": [
        {
          "output_type": "stream",
          "name": "stdout",
          "text": [
            "g\n"
          ]
        }
      ]
    },
    {
      "cell_type": "code",
      "execution_count": null,
      "id": "54ee0a5d-415f-40b6-b82e-c0de12a002f9",
      "metadata": {
        "id": "54ee0a5d-415f-40b6-b82e-c0de12a002f9"
      },
      "outputs": [],
      "source": [
        "# Write a Python program to print the length of a string. (User input for the string)"
      ]
    },
    {
      "cell_type": "code",
      "source": [
        "str=\"greeshma\"\n",
        "print(len(str))"
      ],
      "metadata": {
        "id": "b-dYcjQXq4Il",
        "outputId": "3032ae2b-6236-4312-a915-aa109ea8b064",
        "colab": {
          "base_uri": "https://localhost:8080/"
        }
      },
      "id": "b-dYcjQXq4Il",
      "execution_count": null,
      "outputs": [
        {
          "output_type": "stream",
          "name": "stdout",
          "text": [
            "8\n"
          ]
        }
      ]
    },
    {
      "cell_type": "code",
      "execution_count": null,
      "id": "65f44c33-618e-4337-a9d1-9de888c93a0a",
      "metadata": {
        "id": "65f44c33-618e-4337-a9d1-9de888c93a0a"
      },
      "outputs": [],
      "source": [
        "# Write a Python program to check if a given string contains only alphabets."
      ]
    },
    {
      "cell_type": "code",
      "source": [
        "str=(\"TEJA\")\n",
        "print(str.isalpha())"
      ],
      "metadata": {
        "id": "mNrN5DwerUhc",
        "outputId": "250dacc3-2162-4650-ae7c-3edd48e006ab",
        "colab": {
          "base_uri": "https://localhost:8080/"
        }
      },
      "id": "mNrN5DwerUhc",
      "execution_count": null,
      "outputs": [
        {
          "output_type": "stream",
          "name": "stdout",
          "text": [
            "True\n"
          ]
        }
      ]
    },
    {
      "cell_type": "code",
      "execution_count": null,
      "id": "37463128-2b51-4860-b6bf-40d3c03fbe84",
      "metadata": {
        "id": "37463128-2b51-4860-b6bf-40d3c03fbe84"
      },
      "outputs": [],
      "source": [
        "# Write a Python program to concatenate two strings. (User input for the strings)"
      ]
    },
    {
      "cell_type": "code",
      "source": [
        "x=\"WOOD\"\n",
        "y=\"WORKS\"\n",
        "print(x+y)"
      ],
      "metadata": {
        "id": "E3oo4BbSrtwu",
        "outputId": "43caaaef-0254-4887-ac04-e8d329cc2057",
        "colab": {
          "base_uri": "https://localhost:8080/"
        }
      },
      "id": "E3oo4BbSrtwu",
      "execution_count": null,
      "outputs": [
        {
          "output_type": "stream",
          "name": "stdout",
          "text": [
            "WOODWORKS\n"
          ]
        }
      ]
    },
    {
      "cell_type": "code",
      "execution_count": null,
      "id": "b1c5d364-eccf-473a-b03a-ab15f3e917cf",
      "metadata": {
        "id": "b1c5d364-eccf-473a-b03a-ab15f3e917cf"
      },
      "outputs": [],
      "source": [
        "# Write a Python program to find the index of a substring \"abc\" in a string. (User input for the string)"
      ]
    },
    {
      "cell_type": "code",
      "source": [
        "x=\"branches\"\n",
        "print(x.index(\"a\"))\n",
        "print(x.index(\"b\"))\n",
        "print(x.index(\"c\"))"
      ],
      "metadata": {
        "id": "fzOTdjzwsJez",
        "outputId": "2fbe1398-31be-42a5-f1c3-654998411f61",
        "colab": {
          "base_uri": "https://localhost:8080/"
        }
      },
      "id": "fzOTdjzwsJez",
      "execution_count": null,
      "outputs": [
        {
          "output_type": "stream",
          "name": "stdout",
          "text": [
            "2\n",
            "0\n",
            "4\n"
          ]
        }
      ]
    },
    {
      "cell_type": "code",
      "execution_count": null,
      "id": "cc92afd9-ba4b-4934-a79d-f26825b4efc2",
      "metadata": {
        "id": "cc92afd9-ba4b-4934-a79d-f26825b4efc2"
      },
      "outputs": [],
      "source": [
        "# Write a Python program to convert a string to both uppercase and lowercase. (User input for the string)"
      ]
    },
    {
      "cell_type": "code",
      "source": [
        "str=\"greeshmateja\"\n",
        "print(str.upper())\n",
        "print(str.lower())"
      ],
      "metadata": {
        "id": "Wd9cVrYnuqaA",
        "outputId": "90526077-07eb-4750-a5bc-41bfff3445e6",
        "colab": {
          "base_uri": "https://localhost:8080/"
        }
      },
      "id": "Wd9cVrYnuqaA",
      "execution_count": null,
      "outputs": [
        {
          "output_type": "stream",
          "name": "stdout",
          "text": [
            "GREESHMATEJA\n",
            "greeshmateja\n"
          ]
        }
      ]
    },
    {
      "cell_type": "code",
      "execution_count": null,
      "id": "f24f79b3-da8b-44bf-8310-c68442e86e3e",
      "metadata": {
        "id": "f24f79b3-da8b-44bf-8310-c68442e86e3e"
      },
      "outputs": [],
      "source": [
        "# Write a Python program to count how many times a particular character appears in a string. (User input for string and character)"
      ]
    },
    {
      "cell_type": "code",
      "source": [
        "str=\"greeshma\"\n",
        "print(str.count(\"e\"))"
      ],
      "metadata": {
        "id": "vOZAZDQ6u88X",
        "outputId": "4b618cba-e4f2-45af-bab9-e8fcaa072cce",
        "colab": {
          "base_uri": "https://localhost:8080/"
        }
      },
      "id": "vOZAZDQ6u88X",
      "execution_count": null,
      "outputs": [
        {
          "output_type": "stream",
          "name": "stdout",
          "text": [
            "2\n"
          ]
        }
      ]
    },
    {
      "cell_type": "code",
      "execution_count": null,
      "id": "f2e8f25c-5c34-44eb-b749-7cc4c100b9a8",
      "metadata": {
        "id": "f2e8f25c-5c34-44eb-b749-7cc4c100b9a8"
      },
      "outputs": [],
      "source": [
        "# Write a Python program to take the user's name as input and print a personalized greeting. (Hello, username, Good Morning)"
      ]
    },
    {
      "cell_type": "code",
      "source": [
        "a=\"Hello\"\n",
        "b=\"Greeshma\"\n",
        "c=\"Good Morning\"\n",
        "print(a)\n",
        "print(b)\n",
        "print(c)"
      ],
      "metadata": {
        "id": "l_-9bwnAvWiv",
        "outputId": "8af11c7b-332f-4f03-ba88-73ea22caf5a2",
        "colab": {
          "base_uri": "https://localhost:8080/"
        }
      },
      "id": "l_-9bwnAvWiv",
      "execution_count": null,
      "outputs": [
        {
          "output_type": "stream",
          "name": "stdout",
          "text": [
            "Hello\n",
            "Greeshma\n",
            "Good Morning\n"
          ]
        }
      ]
    },
    {
      "cell_type": "code",
      "execution_count": null,
      "id": "189296cf-77e6-4f48-b010-77458da5bc9d",
      "metadata": {
        "id": "189296cf-77e6-4f48-b010-77458da5bc9d"
      },
      "outputs": [],
      "source": [
        "# Write a Python program to take two numbers as input and print their sum."
      ]
    },
    {
      "cell_type": "code",
      "source": [
        "x=79\n",
        "y=83\n",
        "print(x+y)"
      ],
      "metadata": {
        "id": "EhRle-7Dv-xH",
        "outputId": "0d0cae13-a866-46f4-eeba-b98850c78d0b",
        "colab": {
          "base_uri": "https://localhost:8080/"
        }
      },
      "id": "EhRle-7Dv-xH",
      "execution_count": null,
      "outputs": [
        {
          "output_type": "stream",
          "name": "stdout",
          "text": [
            "162\n"
          ]
        }
      ]
    },
    {
      "cell_type": "code",
      "execution_count": null,
      "id": "0563b26c-0218-47b8-9035-98beb73b0931",
      "metadata": {
        "id": "0563b26c-0218-47b8-9035-98beb73b0931"
      },
      "outputs": [],
      "source": [
        "# Write a Python program to format and display a string containing the user's name and age. (User input required)"
      ]
    },
    {
      "cell_type": "code",
      "source": [
        "name=(\"VADLA GREESHMA\")\n",
        "age=(\"19\")\n",
        "print(name)\n",
        "print(age)"
      ],
      "metadata": {
        "id": "jqvrvvQ5wPG-",
        "outputId": "b8e8cf60-9ace-4cd9-d3b4-972d30a8509c",
        "colab": {
          "base_uri": "https://localhost:8080/"
        }
      },
      "id": "jqvrvvQ5wPG-",
      "execution_count": null,
      "outputs": [
        {
          "output_type": "stream",
          "name": "stdout",
          "text": [
            "VADLA GREESHMA\n",
            "19\n"
          ]
        }
      ]
    },
    {
      "cell_type": "markdown",
      "id": "0bde6e5a-0415-4b06-8b5a-95fa252b34eb",
      "metadata": {
        "id": "0bde6e5a-0415-4b06-8b5a-95fa252b34eb"
      },
      "source": [
        "## Control Structures (Conditionals and Loops)"
      ]
    },
    {
      "cell_type": "code",
      "execution_count": null,
      "id": "aefff5f3-b61e-43e6-a458-7367ef1af9de",
      "metadata": {
        "id": "aefff5f3-b61e-43e6-a458-7367ef1af9de"
      },
      "outputs": [],
      "source": [
        "# Write a Python program that takes a number as input and checks whether it is positive, negative, or zero."
      ]
    },
    {
      "cell_type": "code",
      "source": [
        "x=16\n",
        "if x > 0:\n",
        "  print(\"The number is positive.\")\n",
        "elif x < 0:\n",
        "  print(\"The number is negative\")\n",
        "else:\n",
        " print(\"The number is zero\")"
      ],
      "metadata": {
        "id": "WRYSTQSX-vBv",
        "outputId": "601fe70f-430d-49ae-889c-d0274f45791e",
        "colab": {
          "base_uri": "https://localhost:8080/"
        }
      },
      "id": "WRYSTQSX-vBv",
      "execution_count": null,
      "outputs": [
        {
          "output_type": "stream",
          "name": "stdout",
          "text": [
            "The number is positive.\n"
          ]
        }
      ]
    },
    {
      "cell_type": "code",
      "execution_count": null,
      "id": "4dc6d14b-6d22-4348-859a-2a03f9be65f7",
      "metadata": {
        "id": "4dc6d14b-6d22-4348-859a-2a03f9be65f7"
      },
      "outputs": [],
      "source": [
        "# Write a Python program to find the maximum of three numbers. (User input for the numbers)"
      ]
    },
    {
      "cell_type": "code",
      "source": [
        "a=7\n",
        "b=8\n",
        "c=11\n",
        "print(\"maximum of three number\")\n",
        "if a>b and a>c:\n",
        "  print(a)\n",
        "elif b>a and b>c:\n",
        "  print(b)\n",
        "else:\n",
        "  print(c)"
      ],
      "metadata": {
        "id": "tqdHPKFw_uZ5",
        "outputId": "6a78a1cb-baa2-4c6e-aa73-b52540eb3419",
        "colab": {
          "base_uri": "https://localhost:8080/"
        }
      },
      "id": "tqdHPKFw_uZ5",
      "execution_count": null,
      "outputs": [
        {
          "output_type": "stream",
          "name": "stdout",
          "text": [
            "maximum of three number\n",
            "11\n"
          ]
        }
      ]
    },
    {
      "cell_type": "code",
      "execution_count": null,
      "id": "3f6d1f45-eb68-4142-89d6-510046f21879",
      "metadata": {
        "id": "3f6d1f45-eb68-4142-89d6-510046f21879"
      },
      "outputs": [],
      "source": [
        "# Write a Python program to check if a year is a leap year. (User input for the year)"
      ]
    },
    {
      "cell_type": "code",
      "source": [
        "year=2021\n",
        "if year%4==0:\n",
        " print(\"The year is leap year\")\n",
        "else:\n",
        " print(\"The year is not leap year\")"
      ],
      "metadata": {
        "id": "gPw7gpjlAoij",
        "outputId": "d083eb8b-f353-4766-c596-c90f3f8c3429",
        "colab": {
          "base_uri": "https://localhost:8080/"
        }
      },
      "id": "gPw7gpjlAoij",
      "execution_count": null,
      "outputs": [
        {
          "output_type": "stream",
          "name": "stdout",
          "text": [
            "The year is not leap year\n"
          ]
        }
      ]
    },
    {
      "cell_type": "code",
      "execution_count": null,
      "id": "b6a07105-6fa5-4f70-b64b-ebd66afc3c2b",
      "metadata": {
        "id": "b6a07105-6fa5-4f70-b64b-ebd66afc3c2b"
      },
      "outputs": [],
      "source": [
        "# Write a Python program to check if a number is divisible by both 3 and 5. (User input for the number)"
      ]
    },
    {
      "cell_type": "code",
      "source": [
        "a=25\n",
        "if a%3==0 and a%5==0:\n",
        "  print(\"is divisible by both 3 and 5\")\n",
        "else:\n",
        "  print(\"is not divisible by both 3 and 5\")"
      ],
      "metadata": {
        "id": "STL1PinABUmV",
        "outputId": "21075ae6-1709-49eb-922e-319772b28177",
        "colab": {
          "base_uri": "https://localhost:8080/"
        }
      },
      "id": "STL1PinABUmV",
      "execution_count": null,
      "outputs": [
        {
          "output_type": "stream",
          "name": "stdout",
          "text": [
            "is not divisible by both 3 and 5\n"
          ]
        }
      ]
    },
    {
      "cell_type": "code",
      "execution_count": null,
      "id": "d10c9005-b85d-42f9-81d0-65d149415888",
      "metadata": {
        "id": "d10c9005-b85d-42f9-81d0-65d149415888"
      },
      "outputs": [],
      "source": [
        "# Write a Python program to check if a string is a palindrome. (User input for the string)"
      ]
    },
    {
      "cell_type": "code",
      "source": [
        "string=\"rishi college\"\n",
        "if(string==string[::-1]):\n",
        "  print(\"The letter is palindrome\")\n",
        "else:\n",
        "  print(\"The letter is not a palindrome\")"
      ],
      "metadata": {
        "id": "mWzsyL9gB99K",
        "outputId": "cbedb83b-ad41-4006-dc69-9e71bc79c9fb",
        "colab": {
          "base_uri": "https://localhost:8080/"
        }
      },
      "id": "mWzsyL9gB99K",
      "execution_count": null,
      "outputs": [
        {
          "output_type": "stream",
          "name": "stdout",
          "text": [
            "The letter is not a palindrome\n"
          ]
        }
      ]
    },
    {
      "cell_type": "code",
      "execution_count": null,
      "id": "82d76cdf-efc6-45c6-ab09-9d1f17b3d857",
      "metadata": {
        "id": "82d76cdf-efc6-45c6-ab09-9d1f17b3d857"
      },
      "outputs": [],
      "source": [
        "# Write a Python program to print numbers from 1 to 10 using a for loop."
      ]
    },
    {
      "cell_type": "code",
      "source": [
        "for number in range(1,11):\n",
        "  print(number)"
      ],
      "metadata": {
        "id": "wqloPp6kCyuv",
        "outputId": "45ce85d5-e061-4303-f0a0-cd35a57e1056",
        "colab": {
          "base_uri": "https://localhost:8080/"
        }
      },
      "id": "wqloPp6kCyuv",
      "execution_count": null,
      "outputs": [
        {
          "output_type": "stream",
          "name": "stdout",
          "text": [
            "1\n",
            "2\n",
            "3\n",
            "4\n",
            "5\n",
            "6\n",
            "7\n",
            "8\n",
            "9\n",
            "10\n"
          ]
        }
      ]
    },
    {
      "cell_type": "code",
      "execution_count": null,
      "id": "d09e8994-e984-4c12-ab1e-1bfc6938a389",
      "metadata": {
        "id": "d09e8994-e984-4c12-ab1e-1bfc6938a389"
      },
      "outputs": [],
      "source": [
        "# Write a Python program to print all even numbers from 1 to 20 using a while loop."
      ]
    },
    {
      "cell_type": "code",
      "source": [
        "for even_number in range(1,21):\n",
        "  if even_number%2==0:\n",
        "    print(even_number)"
      ],
      "metadata": {
        "id": "vo2IXBJ6DKKO",
        "outputId": "245ff166-01d2-42eb-e5bf-98c85144f8d2",
        "colab": {
          "base_uri": "https://localhost:8080/"
        }
      },
      "id": "vo2IXBJ6DKKO",
      "execution_count": null,
      "outputs": [
        {
          "output_type": "stream",
          "name": "stdout",
          "text": [
            "2\n",
            "4\n",
            "6\n",
            "8\n",
            "10\n",
            "12\n",
            "14\n",
            "16\n",
            "18\n",
            "20\n"
          ]
        }
      ]
    },
    {
      "cell_type": "code",
      "execution_count": null,
      "id": "c09ca878-167e-49ca-97f0-247a43c9b472",
      "metadata": {
        "id": "c09ca878-167e-49ca-97f0-247a43c9b472"
      },
      "outputs": [],
      "source": [
        "# Write a Python program to print the multiplication table of a given number using a for loop. (User input for the number)"
      ]
    },
    {
      "cell_type": "code",
      "source": [
        "number=5\n",
        "for i in range(1,11):\n",
        "  print(number, \"x\",i, \"=\", number)"
      ],
      "metadata": {
        "id": "2S63YYhmDf1n",
        "outputId": "f8579c38-1fb7-42d6-a507-b759dee8b1b5",
        "colab": {
          "base_uri": "https://localhost:8080/"
        }
      },
      "id": "2S63YYhmDf1n",
      "execution_count": null,
      "outputs": [
        {
          "output_type": "stream",
          "name": "stdout",
          "text": [
            "5 x 1 = 5\n",
            "5 x 2 = 5\n",
            "5 x 3 = 5\n",
            "5 x 4 = 5\n",
            "5 x 5 = 5\n",
            "5 x 6 = 5\n",
            "5 x 7 = 5\n",
            "5 x 8 = 5\n",
            "5 x 9 = 5\n",
            "5 x 10 = 5\n"
          ]
        }
      ]
    },
    {
      "cell_type": "code",
      "execution_count": null,
      "id": "b72118ab-e62d-4af9-bcec-e1cc6af31b25",
      "metadata": {
        "id": "b72118ab-e62d-4af9-bcec-e1cc6af31b25"
      },
      "outputs": [],
      "source": [
        "# Write a Python program to calculate the sum of all numbers from 1 to n using a while loop. (User input for n)"
      ]
    },
    {
      "cell_type": "code",
      "source": [
        "a = 25\n",
        "if a < 0:\n",
        "  print(\"positive number\")\n",
        "else:\n",
        "  sum = 0\n",
        "  while(a > 0):\n",
        "    sum += a\n",
        "    a -= 1\n",
        "    print(\"The sum is\",sum)\n"
      ],
      "metadata": {
        "id": "iH4u3Db8EAeH",
        "outputId": "9adf2ff3-9826-434c-d6d6-f6629648d473",
        "colab": {
          "base_uri": "https://localhost:8080/"
        }
      },
      "id": "iH4u3Db8EAeH",
      "execution_count": null,
      "outputs": [
        {
          "output_type": "stream",
          "name": "stdout",
          "text": [
            "The sum is 25\n",
            "The sum is 49\n",
            "The sum is 72\n",
            "The sum is 94\n",
            "The sum is 115\n",
            "The sum is 135\n",
            "The sum is 154\n",
            "The sum is 172\n",
            "The sum is 189\n",
            "The sum is 205\n",
            "The sum is 220\n",
            "The sum is 234\n",
            "The sum is 247\n",
            "The sum is 259\n",
            "The sum is 270\n",
            "The sum is 280\n",
            "The sum is 289\n",
            "The sum is 297\n",
            "The sum is 304\n",
            "The sum is 310\n",
            "The sum is 315\n",
            "The sum is 319\n",
            "The sum is 322\n",
            "The sum is 324\n",
            "The sum is 325\n"
          ]
        }
      ]
    },
    {
      "cell_type": "code",
      "execution_count": null,
      "id": "ae93621f-11a2-40b7-97bc-3002f03ac36a",
      "metadata": {
        "id": "ae93621f-11a2-40b7-97bc-3002f03ac36a"
      },
      "outputs": [],
      "source": [
        "# Write a Python program to calculate the factorial of a number using a while loop. (User input for the number)"
      ]
    },
    {
      "cell_type": "code",
      "source": [
        "a =4\n",
        "factorial = 1\n",
        "i = 1\n",
        "while i <= a:\n",
        "  factorial *= i\n",
        "  i += 1\n",
        "print(\"The factorial of\", a, \"is\", factorial)"
      ],
      "metadata": {
        "id": "kf1DEpo6c0_v",
        "outputId": "092bf1b4-97bb-4084-ffa2-2c3d0c527f69",
        "colab": {
          "base_uri": "https://localhost:8080/"
        }
      },
      "id": "kf1DEpo6c0_v",
      "execution_count": null,
      "outputs": [
        {
          "output_type": "stream",
          "name": "stdout",
          "text": [
            "The factorial of 4 is 24\n"
          ]
        }
      ]
    },
    {
      "cell_type": "code",
      "execution_count": null,
      "id": "68467ccc-d696-4ef1-84c4-164c9d87f755",
      "metadata": {
        "id": "68467ccc-d696-4ef1-84c4-164c9d87f755"
      },
      "outputs": [],
      "source": [
        "# Write a Python program to print the Fibonacci sequence up to n terms. (User input for n)"
      ]
    },
    {
      "cell_type": "code",
      "execution_count": null,
      "metadata": {
        "colab": {
          "base_uri": "https://localhost:8080/"
        },
        "outputId": "ce01af9c-b09a-4a61-9d21-f8c87dabff45",
        "id": "JWU3TPxbweqg"
      },
      "outputs": [
        {
          "output_type": "stream",
          "name": "stdout",
          "text": [
            "Fibonacci sequence up to 5 terms:\n",
            "0 1 1 2 3 "
          ]
        }
      ],
      "source": [
        "n = 5\n",
        "a, b = 0, 1\n",
        "print(\"Fibonacci sequence up to\", n, \"terms:\")\n",
        "for i in range(n):\n",
        "    print(a, end=\" \")\n",
        "    a, b = b, a + b"
      ],
      "id": "JWU3TPxbweqg"
    },
    {
      "cell_type": "code",
      "execution_count": null,
      "id": "5bebd1f3-2606-4102-aa55-01cb1650f632",
      "metadata": {
        "id": "5bebd1f3-2606-4102-aa55-01cb1650f632"
      },
      "outputs": [],
      "source": [
        "# Write a Python program to find all the prime numbers from 1 to 100."
      ]
    },
    {
      "cell_type": "code",
      "source": [
        "for num in range(1, 101):\n",
        "    if num > 1:\n",
        "        for i in range(2, num):\n",
        "            if (num % i) == 0:\n",
        "                break\n",
        "        else:\n",
        "            print(num)"
      ],
      "metadata": {
        "id": "7cw0tW_o1o8S",
        "outputId": "2b7bfbc3-039e-4894-a71b-9d7eb199a9a0",
        "colab": {
          "base_uri": "https://localhost:8080/"
        }
      },
      "id": "7cw0tW_o1o8S",
      "execution_count": null,
      "outputs": [
        {
          "output_type": "stream",
          "name": "stdout",
          "text": [
            "2\n",
            "3\n",
            "5\n",
            "7\n",
            "11\n",
            "13\n",
            "17\n",
            "19\n",
            "23\n",
            "29\n",
            "31\n",
            "37\n",
            "41\n",
            "43\n",
            "47\n",
            "53\n",
            "59\n",
            "61\n",
            "67\n",
            "71\n",
            "73\n",
            "79\n",
            "83\n",
            "89\n",
            "97\n"
          ]
        }
      ]
    },
    {
      "cell_type": "code",
      "execution_count": null,
      "id": "0a3f894e-52ba-4c0b-9158-a70f31f4fd49",
      "metadata": {
        "id": "0a3f894e-52ba-4c0b-9158-a70f31f4fd49"
      },
      "outputs": [],
      "source": [
        "# Write a Python program that breaks out of a loop when a specific condition is met (e.g., when a number greater than 50 is found)."
      ]
    },
    {
      "cell_type": "code",
      "source": [
        "numbers = [10, 25,40, 60, 80]\n",
        "for num in numbers:\n",
        "    if num > 50:\n",
        "        break\n",
        "    print(num)"
      ],
      "metadata": {
        "id": "yjI1IiOx1y9o",
        "outputId": "5832967d-6b3b-4c68-c30a-f2a4e2bfea65",
        "colab": {
          "base_uri": "https://localhost:8080/"
        }
      },
      "id": "yjI1IiOx1y9o",
      "execution_count": null,
      "outputs": [
        {
          "output_type": "stream",
          "name": "stdout",
          "text": [
            "10\n",
            "25\n",
            "40\n"
          ]
        }
      ]
    },
    {
      "cell_type": "code",
      "execution_count": null,
      "id": "499b91d0-1f1b-494f-af2b-8cc3a06d90ed",
      "metadata": {
        "id": "499b91d0-1f1b-494f-af2b-8cc3a06d90ed"
      },
      "outputs": [],
      "source": [
        "# Write a Python program to skip even numbers while printing numbers from 1 to 20 using a for loop."
      ]
    },
    {
      "cell_type": "code",
      "source": [
        "for num in range(1, 21):\n",
        "    if num % 2 == 0:\n",
        "        continue\n",
        "    print(num)"
      ],
      "metadata": {
        "id": "7sJP7SBu15ap",
        "outputId": "778404ff-cbc0-4d9d-fa6c-771d6b9d683a",
        "colab": {
          "base_uri": "https://localhost:8080/"
        }
      },
      "id": "7sJP7SBu15ap",
      "execution_count": null,
      "outputs": [
        {
          "output_type": "stream",
          "name": "stdout",
          "text": [
            "1\n",
            "3\n",
            "5\n",
            "7\n",
            "9\n",
            "11\n",
            "13\n",
            "15\n",
            "17\n",
            "19\n"
          ]
        }
      ]
    },
    {
      "cell_type": "code",
      "execution_count": null,
      "id": "f8ffed70-dfde-4262-a2fd-0d35d69b5fb1",
      "metadata": {
        "id": "f8ffed70-dfde-4262-a2fd-0d35d69b5fb1"
      },
      "outputs": [],
      "source": [
        "# Write a Python program to count how many times a particular character appears in a string using a for loop. (User input for string and character)"
      ]
    },
    {
      "cell_type": "code",
      "source": [
        "a = \"anusha\"\n",
        "print(a.count(\"a\"))"
      ],
      "metadata": {
        "id": "Mw0_OesE2Dds",
        "outputId": "1c78b8c8-bc74-4ccc-c558-dbb192b3b958",
        "colab": {
          "base_uri": "https://localhost:8080/"
        }
      },
      "id": "Mw0_OesE2Dds",
      "execution_count": null,
      "outputs": [
        {
          "output_type": "stream",
          "name": "stdout",
          "text": [
            "2\n"
          ]
        }
      ]
    },
    {
      "cell_type": "code",
      "execution_count": null,
      "id": "01f976ed-4dcd-4842-ae84-d3b5cc42d011",
      "metadata": {
        "id": "01f976ed-4dcd-4842-ae84-d3b5cc42d011"
      },
      "outputs": [],
      "source": [
        "# Write a Python program to calculate the sum of digits of a number. (User input for the number)"
      ]
    },
    {
      "cell_type": "code",
      "source": [
        "num =12\n",
        "sum_of_digits = 0\n",
        "while num > 0:\n",
        "    digit = num % 10\n",
        "    sum_of_digits += digit\n",
        "    num = num // 10\n",
        "print(f\"The sum of the digits is: {sum_of_digits}\")"
      ],
      "metadata": {
        "id": "E3zizSRQ2VgP",
        "outputId": "cd603308-a38d-4b98-a4ae-97d92b4dcb27",
        "colab": {
          "base_uri": "https://localhost:8080/"
        }
      },
      "id": "E3zizSRQ2VgP",
      "execution_count": null,
      "outputs": [
        {
          "output_type": "stream",
          "name": "stdout",
          "text": [
            "The sum of the digits is: 3\n"
          ]
        }
      ]
    },
    {
      "cell_type": "markdown",
      "id": "fe644fae-f262-48dd-b7ff-08eb747d297e",
      "metadata": {
        "id": "fe644fae-f262-48dd-b7ff-08eb747d297e"
      },
      "source": [
        "## Data Structures (Lists, Tuples, Sets, Dictionaries)"
      ]
    },
    {
      "cell_type": "code",
      "execution_count": null,
      "id": "a0333c26-8e19-4c71-9722-d32cf8625ef6",
      "metadata": {
        "id": "a0333c26-8e19-4c71-9722-d32cf8625ef6"
      },
      "outputs": [],
      "source": [
        "# Write a Python program to create a list of integers and print the sum of the elements."
      ]
    },
    {
      "cell_type": "code",
      "source": [
        "numbers=[10,20,30,40,50]\n",
        "integers_list=list(numbers)\n",
        "print(\"List of integers:\",integers_list)"
      ],
      "metadata": {
        "id": "GMUvfZeJ23vY",
        "outputId": "2282a87f-74ff-44f3-b1c3-5b2d535be026",
        "colab": {
          "base_uri": "https://localhost:8080/"
        }
      },
      "id": "GMUvfZeJ23vY",
      "execution_count": 17,
      "outputs": [
        {
          "output_type": "stream",
          "name": "stdout",
          "text": [
            "List of integers: [10, 20, 30, 40, 50]\n"
          ]
        }
      ]
    },
    {
      "cell_type": "code",
      "execution_count": null,
      "id": "5a23046d-80b0-4f8d-a02f-4e3d833c0443",
      "metadata": {
        "id": "5a23046d-80b0-4f8d-a02f-4e3d833c0443"
      },
      "outputs": [],
      "source": [
        "# Write a Python program to find the largest element in a list."
      ]
    },
    {
      "cell_type": "code",
      "source": [
        "int=(11,55,99)\n",
        "print(max(int))"
      ],
      "metadata": {
        "id": "8TMxafmh30vH",
        "outputId": "65f75a0c-8979-4a1c-edb4-e50ba8312930",
        "colab": {
          "base_uri": "https://localhost:8080/"
        }
      },
      "id": "8TMxafmh30vH",
      "execution_count": 18,
      "outputs": [
        {
          "output_type": "stream",
          "name": "stdout",
          "text": [
            "99\n"
          ]
        }
      ]
    },
    {
      "cell_type": "code",
      "execution_count": null,
      "id": "9939c2d2-90fd-4e80-81bc-227c72e60e37",
      "metadata": {
        "id": "9939c2d2-90fd-4e80-81bc-227c72e60e37"
      },
      "outputs": [],
      "source": [
        "# Write a Python program to reverse a list."
      ]
    },
    {
      "cell_type": "code",
      "source": [
        "int=(91,205,661)\n",
        "print(int[::-1])"
      ],
      "metadata": {
        "id": "HT6wGZNB38JK",
        "outputId": "1179ba8e-2fb5-4f5a-a54e-3504983aa5a6",
        "colab": {
          "base_uri": "https://localhost:8080/"
        }
      },
      "id": "HT6wGZNB38JK",
      "execution_count": 19,
      "outputs": [
        {
          "output_type": "stream",
          "name": "stdout",
          "text": [
            "(661, 205, 91)\n"
          ]
        }
      ]
    },
    {
      "cell_type": "code",
      "execution_count": null,
      "id": "aa287db8-057b-48d4-a6d8-18cc53eb7178",
      "metadata": {
        "id": "aa287db8-057b-48d4-a6d8-18cc53eb7178"
      },
      "outputs": [],
      "source": [
        "# Write a Python program to remove all occurrences of a specific element from a list."
      ]
    },
    {
      "cell_type": "code",
      "source": [
        "int_list = [19, 255, 676]\n",
        "int_list.remove(255)\n",
        "print(int_list)"
      ],
      "metadata": {
        "id": "53Ksddxy4KJp",
        "outputId": "75479fe1-0dae-4f8e-bb08-0d205ad251a8",
        "colab": {
          "base_uri": "https://localhost:8080/"
        }
      },
      "id": "53Ksddxy4KJp",
      "execution_count": 20,
      "outputs": [
        {
          "output_type": "stream",
          "name": "stdout",
          "text": [
            "[19, 676]\n"
          ]
        }
      ]
    },
    {
      "cell_type": "code",
      "execution_count": null,
      "id": "da9ba926-0ab5-46e9-b66d-128088c3225b",
      "metadata": {
        "id": "da9ba926-0ab5-46e9-b66d-128088c3225b"
      },
      "outputs": [],
      "source": [
        "# Write a Python program to find the index of an element in a list."
      ]
    },
    {
      "cell_type": "code",
      "source": [
        "int=[\"12\",\"25\",\"96\"]\n",
        "print(int.index(\"25\"))"
      ],
      "metadata": {
        "id": "7wQ4N4Mw4Q5-",
        "outputId": "61a24d1b-0b33-4d68-bba2-5503594d4c52",
        "colab": {
          "base_uri": "https://localhost:8080/"
        }
      },
      "id": "7wQ4N4Mw4Q5-",
      "execution_count": 21,
      "outputs": [
        {
          "output_type": "stream",
          "name": "stdout",
          "text": [
            "1\n"
          ]
        }
      ]
    },
    {
      "cell_type": "code",
      "execution_count": null,
      "id": "9601b6e4-cb90-4e1f-87b4-38ed37076e0d",
      "metadata": {
        "id": "9601b6e4-cb90-4e1f-87b4-38ed37076e0d"
      },
      "outputs": [],
      "source": [
        "# Write a Python program to find if a specific element exists in a list."
      ]
    },
    {
      "cell_type": "code",
      "source": [
        "int=[\"1\",\"25\",\"66\"]\n",
        "print(\"25\" in int)"
      ],
      "metadata": {
        "id": "QZQ4VnWN4aY0",
        "outputId": "4c5a709f-4f67-46d3-fa46-becdb4cdfe1a",
        "colab": {
          "base_uri": "https://localhost:8080/"
        }
      },
      "id": "QZQ4VnWN4aY0",
      "execution_count": 22,
      "outputs": [
        {
          "output_type": "stream",
          "name": "stdout",
          "text": [
            "True\n"
          ]
        }
      ]
    },
    {
      "cell_type": "code",
      "execution_count": null,
      "id": "9d8e7311-81de-4da2-826c-c4dcad28ed9f",
      "metadata": {
        "id": "9d8e7311-81de-4da2-826c-c4dcad28ed9f"
      },
      "outputs": [],
      "source": [
        "# Write a Python program to remove duplicates from a list."
      ]
    },
    {
      "cell_type": "code",
      "source": [
        "int=[\"1\",\"25\",\"66\",\"25\"]\n",
        "print(list(set(int)))"
      ],
      "metadata": {
        "id": "4yLEcgk74mww",
        "outputId": "134db591-6440-4627-e5bb-7f540945f17d",
        "colab": {
          "base_uri": "https://localhost:8080/"
        }
      },
      "id": "4yLEcgk74mww",
      "execution_count": 23,
      "outputs": [
        {
          "output_type": "stream",
          "name": "stdout",
          "text": [
            "['1', '25', '66']\n"
          ]
        }
      ]
    },
    {
      "cell_type": "code",
      "execution_count": null,
      "id": "09e5121b-97b3-42e4-8025-f28f3470681b",
      "metadata": {
        "id": "09e5121b-97b3-42e4-8025-f28f3470681b"
      },
      "outputs": [],
      "source": [
        "# Write a Python program to count the occurrences of an element in a list."
      ]
    },
    {
      "cell_type": "code",
      "source": [
        "int=[\"25\",\"25\",\"66\",\"25\"]\n",
        "print(int.count(\"25\"))"
      ],
      "metadata": {
        "id": "Hsr6T5Ys4tKT",
        "outputId": "6f0da546-ebe7-4e07-fc32-522069b6c823",
        "colab": {
          "base_uri": "https://localhost:8080/"
        }
      },
      "id": "Hsr6T5Ys4tKT",
      "execution_count": 24,
      "outputs": [
        {
          "output_type": "stream",
          "name": "stdout",
          "text": [
            "3\n"
          ]
        }
      ]
    },
    {
      "cell_type": "code",
      "execution_count": null,
      "id": "b774b741-e9a6-45db-8f00-e6d9b734d03a",
      "metadata": {
        "id": "b774b741-e9a6-45db-8f00-e6d9b734d03a"
      },
      "outputs": [],
      "source": [
        "# Write a Python program to get the number of even numbers in a list."
      ]
    },
    {
      "cell_type": "code",
      "source": [
        "numbers = [2,5,17,22,66]\n",
        "even_count = count_even_numbers(numbers)\n",
        "print(\"Number of even numbers:\", even_count)"
      ],
      "metadata": {
        "id": "OVuqM76j5nYB",
        "outputId": "6370da20-c4fe-493a-bc3e-304761c92ef8",
        "colab": {
          "base_uri": "https://localhost:8080/"
        }
      },
      "id": "OVuqM76j5nYB",
      "execution_count": 29,
      "outputs": [
        {
          "output_type": "stream",
          "name": "stdout",
          "text": [
            "Number of even numbers: 3\n"
          ]
        }
      ]
    },
    {
      "cell_type": "code",
      "execution_count": null,
      "id": "5ce4fd2b-ab16-4b40-9ac2-d19c244d8d96",
      "metadata": {
        "id": "5ce4fd2b-ab16-4b40-9ac2-d19c244d8d96"
      },
      "outputs": [],
      "source": [
        "# Write a Python program to create a tuple and print it."
      ]
    },
    {
      "cell_type": "code",
      "source": [
        "my_tuple = (1, 2, 3, 4, 5)\n",
        "print(my_tuple)"
      ],
      "metadata": {
        "id": "9BKbGJp559U9",
        "outputId": "3369f584-3e16-4866-b325-960714027a05",
        "colab": {
          "base_uri": "https://localhost:8080/"
        }
      },
      "id": "9BKbGJp559U9",
      "execution_count": 30,
      "outputs": [
        {
          "output_type": "stream",
          "name": "stdout",
          "text": [
            "(1, 2, 3, 4, 5)\n"
          ]
        }
      ]
    },
    {
      "cell_type": "code",
      "execution_count": null,
      "id": "5c04f880-6e96-4ef4-9f4b-df21aae76ff1",
      "metadata": {
        "id": "5c04f880-6e96-4ef4-9f4b-df21aae76ff1"
      },
      "outputs": [],
      "source": [
        "# Write a Python program to convert a tuple to a list and vice versa."
      ]
    },
    {
      "cell_type": "code",
      "source": [
        "my_tuple = (1, 2, 3)\n",
        "my_list = list(my_tuple)\n",
        "\n",
        "print(my_list)\n",
        "\n",
        "my_list = [4, 5, 6]\n",
        "my_tuple = tuple(my_list)\n",
        "\n",
        "print(my_tuple)"
      ],
      "metadata": {
        "id": "By9vTLiI6G6R",
        "outputId": "b110253d-5da6-48e5-fef4-bb4a95e0875f",
        "colab": {
          "base_uri": "https://localhost:8080/"
        }
      },
      "id": "By9vTLiI6G6R",
      "execution_count": 31,
      "outputs": [
        {
          "output_type": "stream",
          "name": "stdout",
          "text": [
            "[1, 2, 3]\n",
            "(4, 5, 6)\n"
          ]
        }
      ]
    },
    {
      "cell_type": "code",
      "execution_count": 32,
      "id": "d5192acc-27f3-456e-9c72-3b276a587bf5",
      "metadata": {
        "id": "d5192acc-27f3-456e-9c72-3b276a587bf5"
      },
      "outputs": [],
      "source": [
        "# Write a Python program to find the maximum and minimum values in a tuple."
      ]
    },
    {
      "cell_type": "code",
      "source": [
        "my_tuple = (1, 2, 3, 4, 5)\n",
        "max_value = max(my_tuple)\n",
        "min_value = min(my_tuple)\n",
        "\n",
        "print(\"Maximum value:\", max_value)\n",
        "print(\"Minimum value:\", min_value)"
      ],
      "metadata": {
        "id": "8YvmjaKR6Uly",
        "outputId": "3b9b8564-e3b5-49f9-ec91-34d278380a49",
        "colab": {
          "base_uri": "https://localhost:8080/"
        }
      },
      "id": "8YvmjaKR6Uly",
      "execution_count": 33,
      "outputs": [
        {
          "output_type": "stream",
          "name": "stdout",
          "text": [
            "Maximum value: 5\n",
            "Minimum value: 1\n"
          ]
        }
      ]
    },
    {
      "cell_type": "code",
      "execution_count": null,
      "id": "43f0a340-9407-4302-af7e-4e63db578bbf",
      "metadata": {
        "id": "43f0a340-9407-4302-af7e-4e63db578bbf"
      },
      "outputs": [],
      "source": [
        "# Write a Python program to unpack a tuple into variables."
      ]
    },
    {
      "cell_type": "code",
      "source": [
        "my_tuple = (1, 2, 3)\n",
        "a, b, c = my_tuple\n",
        "\n",
        "print(\"a:\", a)\n",
        "print(\"b:\", b)\n",
        "print(\"c:\", c)"
      ],
      "metadata": {
        "id": "sTi78jTJ6eld",
        "outputId": "44210d26-8a69-4091-93f5-07b34f8cf59f",
        "colab": {
          "base_uri": "https://localhost:8080/"
        }
      },
      "id": "sTi78jTJ6eld",
      "execution_count": 34,
      "outputs": [
        {
          "output_type": "stream",
          "name": "stdout",
          "text": [
            "a: 1\n",
            "b: 2\n",
            "c: 3\n"
          ]
        }
      ]
    },
    {
      "cell_type": "code",
      "execution_count": null,
      "id": "46e96e29-2157-4b9f-bb24-0bd973eada9f",
      "metadata": {
        "id": "46e96e29-2157-4b9f-bb24-0bd973eada9f"
      },
      "outputs": [],
      "source": [
        "# Write a Python program to add an element to a set and check if an element exists in the set."
      ]
    },
    {
      "cell_type": "code",
      "source": [
        "my_set = {1, 2, 3}\n",
        "my_set.add(4)\n",
        "\n",
        "print(my_set)"
      ],
      "metadata": {
        "id": "SInxGzAN6pwD",
        "outputId": "adebdcfa-b7cb-4fc3-9649-1e4400ae4ef0",
        "colab": {
          "base_uri": "https://localhost:8080/"
        }
      },
      "id": "SInxGzAN6pwD",
      "execution_count": 35,
      "outputs": [
        {
          "output_type": "stream",
          "name": "stdout",
          "text": [
            "{1, 2, 3, 4}\n"
          ]
        }
      ]
    },
    {
      "cell_type": "code",
      "execution_count": null,
      "id": "d81a803b-fd80-403e-9ae3-680ef44a3d86",
      "metadata": {
        "id": "d81a803b-fd80-403e-9ae3-680ef44a3d86"
      },
      "outputs": [],
      "source": [
        "# Write a Python program to create a dictionary with keys and values and print it."
      ]
    },
    {
      "cell_type": "code",
      "source": [
        "my_dict = {\n",
        "    \"name\": \"Teja\",\n",
        "    \"age\": 23,\n",
        "    \"city\": \"Hyderabad\",\n",
        "    \"profession\": \"Doctor\",\n",
        "}\n",
        "print(\"Dictionary Contents:\")\n",
        "for key, value in my_dict.items():\n",
        "  print(f\"{key}: {value}\")\n"
      ],
      "metadata": {
        "id": "gM5IBQ5S64Ud",
        "outputId": "ddf32778-5594-4d72-9855-55db0e18eeea",
        "colab": {
          "base_uri": "https://localhost:8080/"
        }
      },
      "id": "gM5IBQ5S64Ud",
      "execution_count": 36,
      "outputs": [
        {
          "output_type": "stream",
          "name": "stdout",
          "text": [
            "Dictionary Contents:\n",
            "name: Teja\n",
            "age: 23\n",
            "city: Hyderabad\n",
            "profession: Doctor\n"
          ]
        }
      ]
    },
    {
      "cell_type": "code",
      "execution_count": null,
      "id": "7432174b-fe75-4371-b23a-e2c5d62edb15",
      "metadata": {
        "id": "7432174b-fe75-4371-b23a-e2c5d62edb15"
      },
      "outputs": [],
      "source": [
        "# Write a Python program to access a dictionary value using a key."
      ]
    },
    {
      "cell_type": "code",
      "source": [
        "my_dict = {\n",
        "    \"name\": \"Greeshma\",\n",
        "    \"age\": 19,\n",
        "    \"city\": \"Hyderabad\"\n",
        "}\n",
        "\n",
        "print(my_dict[\"name\"])"
      ],
      "metadata": {
        "id": "UE9AKHYB8Vzs",
        "outputId": "9baa0181-7131-4f5d-ff42-2cfbf024563f",
        "colab": {
          "base_uri": "https://localhost:8080/"
        }
      },
      "id": "UE9AKHYB8Vzs",
      "execution_count": 39,
      "outputs": [
        {
          "output_type": "stream",
          "name": "stdout",
          "text": [
            "Greeshma\n"
          ]
        }
      ]
    },
    {
      "cell_type": "code",
      "execution_count": 41,
      "id": "000b3260-d91f-41f2-9729-4b0124f2c4d2",
      "metadata": {
        "id": "000b3260-d91f-41f2-9729-4b0124f2c4d2"
      },
      "outputs": [],
      "source": [
        "# Write a Python program to check if a key exists in a dictionary."
      ]
    },
    {
      "cell_type": "code",
      "source": [
        "my_dict = {\n",
        "    \"name\": \"Tejaswi\",\n",
        "    \"age\": 19,\n",
        "    \"city\": \"Hyderabad\"\n",
        "}\n",
        "\n",
        "if \"name\" in my_dict:\n",
        "    print(\"Key 'name' exists in the dictionary.\")"
      ],
      "metadata": {
        "id": "dBwXSs8F9tei",
        "outputId": "5aced569-9180-42a0-eabf-51a1cc1257de",
        "colab": {
          "base_uri": "https://localhost:8080/"
        }
      },
      "id": "dBwXSs8F9tei",
      "execution_count": 42,
      "outputs": [
        {
          "output_type": "stream",
          "name": "stdout",
          "text": [
            "Key 'name' exists in the dictionary.\n"
          ]
        }
      ]
    },
    {
      "cell_type": "code",
      "execution_count": null,
      "id": "c4b1a942-818e-42c1-b742-1fabe80fca6d",
      "metadata": {
        "id": "c4b1a942-818e-42c1-b742-1fabe80fca6d"
      },
      "outputs": [],
      "source": [
        "# Write a Python program to merge two dictionaries."
      ]
    },
    {
      "cell_type": "code",
      "source": [
        "dict1 = {\"a\": 1, \"b\": 2}\n",
        "dict2 = {\"c\": 3, \"d\": 4}\n",
        "\n",
        "merged_dict = {**dict1, **dict2}\n",
        "\n",
        "print(merged_dict)"
      ],
      "metadata": {
        "id": "I7oo7iUV-BOw",
        "outputId": "073c3687-3a9f-4146-a7f3-6272e3268935",
        "colab": {
          "base_uri": "https://localhost:8080/"
        }
      },
      "id": "I7oo7iUV-BOw",
      "execution_count": 43,
      "outputs": [
        {
          "output_type": "stream",
          "name": "stdout",
          "text": [
            "{'a': 1, 'b': 2, 'c': 3, 'd': 4}\n"
          ]
        }
      ]
    },
    {
      "cell_type": "code",
      "execution_count": null,
      "id": "a78f1070-3ff3-436a-8391-153f019f53cd",
      "metadata": {
        "id": "a78f1070-3ff3-436a-8391-153f019f53cd"
      },
      "outputs": [],
      "source": [
        "# Write a Python program to remove a key from a dictionary."
      ]
    },
    {
      "cell_type": "code",
      "source": [
        "my_dict = {\n",
        "    \"name\": \"Greeshma\",\n",
        "    \"age\": 19,\n",
        "    \"city\": \"Hyderabad\"\n",
        "}\n",
        "\n",
        "del my_dict[\"age\"]\n",
        "\n",
        "print(my_dict)"
      ],
      "metadata": {
        "id": "O575Il48-KTm",
        "outputId": "aff7b0b3-0142-4941-9c15-9ba369781fd4",
        "colab": {
          "base_uri": "https://localhost:8080/"
        }
      },
      "id": "O575Il48-KTm",
      "execution_count": 44,
      "outputs": [
        {
          "output_type": "stream",
          "name": "stdout",
          "text": [
            "{'name': 'Greeshma', 'city': 'Hyderabad'}\n"
          ]
        }
      ]
    },
    {
      "cell_type": "code",
      "execution_count": null,
      "id": "fcba0267-8cc4-4e89-9e78-2d820916c177",
      "metadata": {
        "id": "fcba0267-8cc4-4e89-9e78-2d820916c177"
      },
      "outputs": [],
      "source": [
        "# Write a Python program to get the number of keys in a dictionary."
      ]
    },
    {
      "cell_type": "code",
      "source": [
        "my_dict = {\n",
        "    \"name\": \"Greeshma\",\n",
        "    \"age\": 19,\n",
        "    \"city\": \"Hyderabad\"\n",
        "}\n",
        "\n",
        "num_keys = len(my_dict)\n",
        "\n",
        "print(\"Number of keys:\", num_keys)"
      ],
      "metadata": {
        "id": "82cXSX2I-XWS",
        "outputId": "0e75b47c-0733-440b-9c52-2ad6408a550e",
        "colab": {
          "base_uri": "https://localhost:8080/"
        }
      },
      "id": "82cXSX2I-XWS",
      "execution_count": 47,
      "outputs": [
        {
          "output_type": "stream",
          "name": "stdout",
          "text": [
            "Number of keys: 3\n"
          ]
        }
      ]
    },
    {
      "cell_type": "code",
      "execution_count": null,
      "id": "d4c5fd77-9656-43e5-8fe2-be7dca23eb6d",
      "metadata": {
        "id": "d4c5fd77-9656-43e5-8fe2-be7dca23eb6d"
      },
      "outputs": [],
      "source": [
        "# Write a Python program to find the largest and smallest values in a dictionary."
      ]
    },
    {
      "cell_type": "code",
      "source": [
        "marks={\"m1\":78 , \"m2\":89 , \"m3\":64 , \"m4\":35 , \"m5\":71}\n",
        "\n",
        "v = marks.values()\n",
        "maxi = max(v)\n",
        "mini = min(v)\n",
        "\n",
        "print(\"Maximum :\",maxi)\n",
        "print(\"Minimum :\",mini)"
      ],
      "metadata": {
        "id": "fdw8Xq8b-e2B",
        "outputId": "12be0fda-b36b-43d2-b85a-cf07d5187107",
        "colab": {
          "base_uri": "https://localhost:8080/"
        }
      },
      "id": "fdw8Xq8b-e2B",
      "execution_count": 46,
      "outputs": [
        {
          "output_type": "stream",
          "name": "stdout",
          "text": [
            "Maximum : 89\n",
            "Minimum : 35\n"
          ]
        }
      ]
    },
    {
      "cell_type": "markdown",
      "id": "7830b8cc-9a90-45a2-8e4a-6f3c2b8b133b",
      "metadata": {
        "id": "7830b8cc-9a90-45a2-8e4a-6f3c2b8b133b"
      },
      "source": [
        "## Functions (User-Defined, Arguments, Keyword Arguments, Return Values)"
      ]
    },
    {
      "cell_type": "code",
      "execution_count": null,
      "id": "06a33fba-c6b1-4989-90f4-b647d1fe1627",
      "metadata": {
        "id": "06a33fba-c6b1-4989-90f4-b647d1fe1627"
      },
      "outputs": [],
      "source": [
        "# Write a Python function that returns the square of a number."
      ]
    },
    {
      "cell_type": "code",
      "execution_count": null,
      "id": "91d90a4a-7329-45db-893b-caed8450ba96",
      "metadata": {
        "id": "91d90a4a-7329-45db-893b-caed8450ba96"
      },
      "outputs": [],
      "source": [
        "# Write a Python function that accepts two parameters and returns their sum."
      ]
    },
    {
      "cell_type": "code",
      "execution_count": null,
      "id": "dec2f9a5-90c5-478b-890b-0a506ecf45d3",
      "metadata": {
        "id": "dec2f9a5-90c5-478b-890b-0a506ecf45d3"
      },
      "outputs": [],
      "source": [
        "# Write a Python function to check if a given number is prime."
      ]
    },
    {
      "cell_type": "code",
      "execution_count": null,
      "id": "56337441-68c3-45df-8733-a34cde0533a5",
      "metadata": {
        "id": "56337441-68c3-45df-8733-a34cde0533a5"
      },
      "outputs": [],
      "source": [
        "# Write a Python function to calculate the factorial of a number using recursion."
      ]
    },
    {
      "cell_type": "code",
      "execution_count": null,
      "id": "84a2d010-e7b2-409b-b1f4-99bf806bb77a",
      "metadata": {
        "id": "84a2d010-e7b2-409b-b1f4-99bf806bb77a"
      },
      "outputs": [],
      "source": [
        "# Write a Python function to calculate the power of a number using recursion."
      ]
    },
    {
      "cell_type": "code",
      "execution_count": null,
      "id": "ec44911e-7820-46cc-96a3-4ca443888837",
      "metadata": {
        "id": "ec44911e-7820-46cc-96a3-4ca443888837"
      },
      "outputs": [],
      "source": [
        "# Write a Python function to accept a list and return its length without using the built-in len() function."
      ]
    },
    {
      "cell_type": "code",
      "execution_count": null,
      "id": "fb4c08e1-34f3-487a-a1c6-77cd60fb4836",
      "metadata": {
        "id": "fb4c08e1-34f3-487a-a1c6-77cd60fb4836"
      },
      "outputs": [],
      "source": [
        "# Write a Python function that accepts both positional and keyword arguments and prints the sum of positional arguments."
      ]
    },
    {
      "cell_type": "code",
      "execution_count": null,
      "id": "f4ffc7a8-f579-461c-b507-4085a0477283",
      "metadata": {
        "id": "f4ffc7a8-f579-461c-b507-4085a0477283"
      },
      "outputs": [],
      "source": [
        "# Write a Python function to find the maximum of two numbers using keyword arguments."
      ]
    },
    {
      "cell_type": "code",
      "execution_count": null,
      "id": "0b00c4af-89e0-43e8-a991-1b684d2ce33f",
      "metadata": {
        "id": "0b00c4af-89e0-43e8-a991-1b684d2ce33f"
      },
      "outputs": [],
      "source": [
        "# Write a Python function that accepts a list of numbers and returns their product."
      ]
    },
    {
      "cell_type": "code",
      "execution_count": null,
      "id": "9cd11703-5b48-44fe-af4e-ea906a2762c9",
      "metadata": {
        "id": "9cd11703-5b48-44fe-af4e-ea906a2762c9"
      },
      "outputs": [],
      "source": [
        "# Write a Python function to check if a number is even or odd using the modulo operator."
      ]
    },
    {
      "cell_type": "code",
      "execution_count": null,
      "id": "afbf262e-daed-40a9-827f-82fa60979610",
      "metadata": {
        "id": "afbf262e-daed-40a9-827f-82fa60979610"
      },
      "outputs": [],
      "source": [
        "# Write a Python program to create a list of squares of numbers from 1 to 10 using list comprehension."
      ]
    },
    {
      "cell_type": "code",
      "execution_count": null,
      "id": "7fff76d8-9ba8-4006-9be6-6f7350092d1c",
      "metadata": {
        "id": "7fff76d8-9ba8-4006-9be6-6f7350092d1c"
      },
      "outputs": [],
      "source": [
        "# Write a Python program to filter out all even numbers from a list using list comprehension."
      ]
    },
    {
      "cell_type": "code",
      "execution_count": null,
      "id": "6ae9b8df-38f9-4fd7-bad1-aa7b07cc9271",
      "metadata": {
        "id": "6ae9b8df-38f9-4fd7-bad1-aa7b07cc9271"
      },
      "outputs": [],
      "source": [
        "# Write a Python program to create a list of strings that are longer than 4 characters from a given list of words using list comprehension."
      ]
    },
    {
      "cell_type": "code",
      "execution_count": null,
      "id": "f492c7d4-6ad3-48ab-9b61-232be02aecee",
      "metadata": {
        "id": "f492c7d4-6ad3-48ab-9b61-232be02aecee"
      },
      "outputs": [],
      "source": [
        "# Write a Python program to create a list of all uppercase letters in a string using list comprehension."
      ]
    },
    {
      "cell_type": "code",
      "execution_count": null,
      "id": "929a7f74-1762-4a2a-be23-bacf67ff4d8b",
      "metadata": {
        "id": "929a7f74-1762-4a2a-be23-bacf67ff4d8b"
      },
      "outputs": [],
      "source": [
        "# Write a Python program to generate the first n Fibonacci numbers using list comprehension."
      ]
    },
    {
      "cell_type": "code",
      "execution_count": null,
      "id": "47188bbc-cf62-47bb-a14e-0582c8b5cdd9",
      "metadata": {
        "id": "47188bbc-cf62-47bb-a14e-0582c8b5cdd9"
      },
      "outputs": [],
      "source": [
        "# Write a Python program to create a dictionary where keys are numbers and values are their squares using dictionary comprehension."
      ]
    },
    {
      "cell_type": "code",
      "execution_count": null,
      "id": "3c4637d3-aa85-4b4c-acf3-953c10818bcb",
      "metadata": {
        "id": "3c4637d3-aa85-4b4c-acf3-953c10818bcb"
      },
      "outputs": [],
      "source": [
        "# Write a Python program to create a dictionary from two lists (one for keys and one for values) using dictionary comprehension."
      ]
    },
    {
      "cell_type": "code",
      "execution_count": null,
      "id": "de817d6f-96e7-4346-839e-1ef0df539b6b",
      "metadata": {
        "id": "de817d6f-96e7-4346-839e-1ef0df539b6b"
      },
      "outputs": [],
      "source": [
        "# Write a Python program to create a dictionary of numbers from 1 to 5 and their cubes using dictionary comprehension."
      ]
    },
    {
      "cell_type": "code",
      "execution_count": null,
      "id": "33695301-057e-49a6-9f80-a2f4e3af60ed",
      "metadata": {
        "id": "33695301-057e-49a6-9f80-a2f4e3af60ed"
      },
      "outputs": [],
      "source": [
        "# Write a Python program to square each element of a list using the map() function."
      ]
    },
    {
      "cell_type": "code",
      "execution_count": null,
      "id": "6d4d17f3-c40f-4944-8656-c6416b600361",
      "metadata": {
        "id": "6d4d17f3-c40f-4944-8656-c6416b600361"
      },
      "outputs": [],
      "source": [
        "# Write a Python program to filter all even numbers from a list using the filter() function."
      ]
    },
    {
      "cell_type": "code",
      "execution_count": null,
      "id": "6634ba1f-9f81-475e-b7c4-422d102afb75",
      "metadata": {
        "id": "6634ba1f-9f81-475e-b7c4-422d102afb75"
      },
      "outputs": [],
      "source": [
        "# Write a Python program to use a lambda function to check if a number is divisible by both 3 and 5."
      ]
    },
    {
      "cell_type": "code",
      "execution_count": null,
      "id": "0aac8430-5d77-439d-9a99-9598fadf989c",
      "metadata": {
        "id": "0aac8430-5d77-439d-9a99-9598fadf989c"
      },
      "outputs": [],
      "source": [
        "# Write a Python program to multiply all numbers in a list by 2 using a lambda function inside map()."
      ]
    },
    {
      "cell_type": "code",
      "execution_count": null,
      "id": "e4cd5ba8-c6ec-4f0d-8787-bf0a4b7a2e22",
      "metadata": {
        "id": "e4cd5ba8-c6ec-4f0d-8787-bf0a4b7a2e22"
      },
      "outputs": [],
      "source": [
        "# Write a Python program to remove all occurrences of a specific element from a list."
      ]
    },
    {
      "cell_type": "markdown",
      "id": "caba77c7-93db-4893-8f48-c7365ed5c585",
      "metadata": {
        "id": "caba77c7-93db-4893-8f48-c7365ed5c585"
      },
      "source": [
        "**Note:**\n",
        "- All assignments must follow [PEP 8 – Style Guide for Python Code](https://peps.python.org/pep-0008/) guidelines.\n",
        "- You can add multiple solutions for each question. Create a new code cell next to the question and add it. Shortcut for creating cell : `Alt + Enter`"
      ]
    }
  ],
  "metadata": {
    "kernelspec": {
      "display_name": "Python 3 (ipykernel)",
      "language": "python",
      "name": "python3"
    },
    "language_info": {
      "codemirror_mode": {
        "name": "ipython",
        "version": 3
      },
      "file_extension": ".py",
      "mimetype": "text/x-python",
      "name": "python",
      "nbconvert_exporter": "python",
      "pygments_lexer": "ipython3",
      "version": "3.12.6"
    },
    "colab": {
      "provenance": [],
      "include_colab_link": true
    }
  },
  "nbformat": 4,
  "nbformat_minor": 5
}